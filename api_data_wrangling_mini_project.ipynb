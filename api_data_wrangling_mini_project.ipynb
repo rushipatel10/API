{
 "cells": [
  {
   "cell_type": "markdown",
   "metadata": {},
   "source": [
    "This exercise will require you to pull some data from the Qunadl API. Qaundl is currently the most widely used aggregator of financial market data."
   ]
  },
  {
   "cell_type": "markdown",
   "metadata": {},
   "source": [
    "As a first step, you will need to register a free account on the http://www.quandl.com website."
   ]
  },
  {
   "cell_type": "markdown",
   "metadata": {},
   "source": [
    "After you register, you will be provided with a unique API key, that you should store:"
   ]
  },
  {
   "cell_type": "code",
   "execution_count": 1,
   "metadata": {},
   "outputs": [],
   "source": [
    "# Store the API key as a string - according to PEP8, constants are always named in all upper case\n",
    "API_KEY = 'w-9Qqxd7i5T3Jvo3Z_PG'"
   ]
  },
  {
   "cell_type": "markdown",
   "metadata": {},
   "source": [
    "Qaundl has a large number of data sources, but, unfortunately, most of them require a Premium subscription. Still, there are also a good number of free datasets."
   ]
  },
  {
   "cell_type": "markdown",
   "metadata": {},
   "source": [
    "For this mini project, we will focus on equities data from the Frankfurt Stock Exhange (FSE), which is available for free. We'll try and analyze the stock prices of a company called Carl Zeiss Meditec, which manufactures tools for eye examinations, as well as medical lasers for laser eye surgery: https://www.zeiss.com/meditec/int/home.html. The company is listed under the stock ticker AFX_X."
   ]
  },
  {
   "cell_type": "markdown",
   "metadata": {},
   "source": [
    "You can find the detailed Quandl API instructions here: https://docs.quandl.com/docs/time-series"
   ]
  },
  {
   "cell_type": "markdown",
   "metadata": {},
   "source": [
    "While there is a dedicated Python package for connecting to the Quandl API, we would prefer that you use the *requests* package, which can be easily downloaded using *pip* or *conda*. You can find the documentation for the package here: http://docs.python-requests.org/en/master/ "
   ]
  },
  {
   "cell_type": "markdown",
   "metadata": {},
   "source": [
    "Finally, apart from the *requests* package, you are encouraged to not use any third party Python packages, such as *pandas*, and instead focus on what's available in the Python Standard Library (the *collections* module might come in handy: https://pymotw.com/3/collections/ ).\n",
    "Also, since you won't have access to DataFrames, you are encouraged to us Python's native data structures - preferably dictionaries, though some questions can also be answered using lists.\n",
    "You can read more on these data structures here: https://docs.python.org/3/tutorial/datastructures.html"
   ]
  },
  {
   "cell_type": "markdown",
   "metadata": {},
   "source": [
    "Keep in mind that the JSON responses you will be getting from the API map almost one-to-one to Python's dictionaries. Unfortunately, they can be very nested, so make sure you read up on indexing dictionaries in the documentation provided above."
   ]
  },
  {
   "cell_type": "code",
   "execution_count": 3,
   "metadata": {},
   "outputs": [],
   "source": [
    "# First, import the relevant modules\n",
    "import requests\n",
    "import json "
   ]
  },
  {
   "cell_type": "code",
   "execution_count": 6,
   "metadata": {},
   "outputs": [],
   "source": [
    "# Now, call the Quandl API and pull out a small sample of the data (only one day) to get a glimpse into the JSON structure that will be returned\n",
    "quandl_sample = requests.get('https://www.quandl.com/api/v3/datasets/FSE/AFX_X/data.json?start_date=2014-12-01&end_date=2014-12-01&api_key=w-9Qqxd7i5T3Jvo3Z_PG')"
   ]
  },
  {
   "cell_type": "code",
   "execution_count": 7,
   "metadata": {},
   "outputs": [
    {
     "name": "stdout",
     "output_type": "stream",
     "text": [
      "{'dataset_data': {'limit': None, 'transform': None, 'column_index': None, 'column_names': ['Date', 'Open', 'High', 'Low', 'Close', 'Change', 'Traded Volume', 'Turnover', 'Last Price of the Day', 'Daily Traded Units', 'Daily Turnover'], 'start_date': '2014-12-01', 'end_date': '2014-12-01', 'frequency': 'daily', 'data': [['2014-12-01', 22.1, 22.14, 21.82, 21.91, None, 21706.0, 477060.0, None, None, None]], 'collapse': None, 'order': None}}\n"
     ]
    }
   ],
   "source": [
    "# Inspect the JSON structure of the object you created, and take note of how nested it is,\n",
    "# as well as the overall structure\n",
    "print(quandl_sample.json())"
   ]
  },
  {
   "cell_type": "markdown",
   "metadata": {},
   "source": [
    "These are your tasks for this mini project:\n",
    "\n",
    "1. Collect data from the Franfurt Stock Exchange, for the ticker AFX_X, for the whole year 2017 (keep in mind that the date format is YYYY-MM-DD).\n",
    "2. Convert the returned JSON object into a Python dictionary.\n",
    "3. Calculate what the highest and lowest opening prices were for the stock in this period.\n",
    "4. What was the largest change in any one day (based on High and Low price)?\n",
    "5. What was the largest change between any two days (based on Closing Price)?\n",
    "6. What was the average daily trading volume during this year?\n",
    "7. (Optional) What was the median trading volume during this year. (Note: you may need to implement your own function for calculating the median.)"
   ]
  },
  {
   "cell_type": "code",
   "execution_count": 8,
   "metadata": {},
   "outputs": [],
   "source": [
    "# 1 Retrieve AFX_X stock data from quandl API\n",
    "afx_x_2017 = requests.get('https://www.quandl.com/api/v3/datasets/FSE/AFX_X/data.json?start_date=2017-01-01&end_date=2017-12-31&api_key=w-9Qqxd7i5T3Jvo3Z_PG')"
   ]
  },
  {
   "cell_type": "code",
   "execution_count": 9,
   "metadata": {},
   "outputs": [],
   "source": [
    "# 2 Store JSON as Python Dictionary\n",
    "a = afx_x_2017.json()"
   ]
  },
  {
   "cell_type": "code",
   "execution_count": 10,
   "metadata": {},
   "outputs": [],
   "source": [
    "# Create empty lists to store data\n",
    "a_opens = []\n",
    "a_high = []\n",
    "a_low = []\n",
    "a_close = []\n",
    "a_change = [0]    # First entry is a rate of change; set to 0\n",
    "a_change_day = []\n",
    "a_volume = []"
   ]
  },
  {
   "cell_type": "code",
   "execution_count": 12,
   "metadata": {},
   "outputs": [],
   "source": [
    "# afx_dict['dataset_data']['data'][i][i] is as far as the nesting is needed\n",
    "\n",
    "# Extract and store daily values through the yearly data\n",
    "\n",
    "for i in range(len(a['dataset_data']['data'])):\n",
    "    \n",
    "    # Select data from relevant outer indices\n",
    "    \n",
    "    opening = a['dataset_data']['data'][i][1] \n",
    "    close = a['dataset_data']['data'][i][4]\n",
    "    high = a['dataset_data']['data'][i][2] \n",
    "    low = a['dataset_data']['data'][i][3]    \n",
    "    t_vol = a['dataset_data']['data'][i][6]\n",
    "    \n",
    "    # Check if data entries for that day exists for each of the parameters\n",
    "    \n",
    "    if isinstance(opening,float):\n",
    "        a_opens.append(opening)\n",
    "    if isinstance(close,float):\n",
    "        a_close.append(close)\n",
    "    if isinstance(high,float) and isinstance(low,float):    \n",
    "        change_day = high - low\n",
    "        a_change_day.append(change_day)\n",
    "        \n",
    "    # Change cannot be calculated based on the closing price of the first day\n",
    "    \n",
    "    if i != 0 : \n",
    "        change = a_close[i] - a_close[i-1]\n",
    "        a_change.append(change)\n",
    "        \n",
    "    # Store the traded volume for each day. \n",
    "    \n",
    "    if isinstance(t_vol,float):\n",
    "        a_volume.append(t_vol)"
   ]
  },
  {
   "cell_type": "code",
   "execution_count": 15,
   "metadata": {},
   "outputs": [
    {
     "name": "stdout",
     "output_type": "stream",
     "text": [
      "The highest opening price is $53.11\n",
      "The lowest opening price is $34.00\n"
     ]
    }
   ],
   "source": [
    "# 3 Calculate what the highest and lowest opening prices were for the stock in this period.\n",
    "\n",
    "print('The highest opening price is $%4.2f'% max(a_opens))\n",
    "print('The lowest opening price is $%4.2f'% min(a_opens))"
   ]
  },
  {
   "cell_type": "code",
   "execution_count": 16,
   "metadata": {},
   "outputs": [
    {
     "name": "stdout",
     "output_type": "stream",
     "text": [
      "The largest change in any one day is $2.81\n"
     ]
    }
   ],
   "source": [
    "# 4 What was the largest change in any one day (based on High and Low price)?\n",
    "\n",
    "print('The largest change in any one day is $%4.2f'% max(a_change_day))"
   ]
  },
  {
   "cell_type": "code",
   "execution_count": 17,
   "metadata": {},
   "outputs": [
    {
     "name": "stdout",
     "output_type": "stream",
     "text": [
      "The largest change in between 2 days based on closing price is $2.56\n"
     ]
    }
   ],
   "source": [
    "# 5 What was the largest change between any two days (based on Closing Price)?\n",
    "\n",
    "print('The largest change in between 2 days based on closing price is $%4.2f'% max(a_change))"
   ]
  },
  {
   "cell_type": "code",
   "execution_count": 18,
   "metadata": {},
   "outputs": [
    {
     "name": "stdout",
     "output_type": "stream",
     "text": [
      "The average traded volume is $ 89124.34\n"
     ]
    }
   ],
   "source": [
    "# 6 What was the average daily trading volume during this year?\n",
    "\n",
    "average_vol = sum(a_volume)/len(a_volume)\n",
    "print('The average traded volume is $%9.2f'% average_vol)"
   ]
  },
  {
   "cell_type": "code",
   "execution_count": 19,
   "metadata": {},
   "outputs": [
    {
     "name": "stdout",
     "output_type": "stream",
     "text": [
      "Median volume is $ 76286.00\n"
     ]
    }
   ],
   "source": [
    "# 7 What was the median trading volume during this year. (Note: you may need to implement your own function for calculating the median.)\n",
    "\n",
    "median = sorted(a_volume)[int(len(a_volume)/2)]\n",
    "print('Median volume is $%9.2f'% median)"
   ]
  },
  {
   "cell_type": "code",
   "execution_count": null,
   "metadata": {},
   "outputs": [],
   "source": []
  }
 ],
 "metadata": {
  "kernelspec": {
   "display_name": "Python 3",
   "language": "python",
   "name": "python3"
  },
  "language_info": {
   "codemirror_mode": {
    "name": "ipython",
    "version": 3
   },
   "file_extension": ".py",
   "mimetype": "text/x-python",
   "name": "python",
   "nbconvert_exporter": "python",
   "pygments_lexer": "ipython3",
   "version": "3.7.3"
  }
 },
 "nbformat": 4,
 "nbformat_minor": 2
}
